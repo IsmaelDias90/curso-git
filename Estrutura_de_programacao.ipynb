{
  "nbformat": 4,
  "nbformat_minor": 0,
  "metadata": {
    "colab": {
      "provenance": [],
      "collapsed_sections": [
        "f94rQzXPUuTe",
        "RkIVswjQwsgT",
        "W5B1WSJvPOqS",
        "fC8Su7nJUKcL",
        "fROFox47sTG5",
        "vwEVbwhIxgQU",
        "7VcOR4VU1C-T"
      ],
      "authorship_tag": "ABX9TyOi03HhIYvdECXIHTkW4WIc",
      "include_colab_link": true
    },
    "kernelspec": {
      "name": "python3",
      "display_name": "Python 3"
    },
    "language_info": {
      "name": "python"
    }
  },
  "cells": [
    {
      "cell_type": "markdown",
      "metadata": {
        "id": "view-in-github",
        "colab_type": "text"
      },
      "source": [
        "<a href=\"https://colab.research.google.com/github/IsmaelDias90/curso-git/blob/master/Estrutura_de_programacao.ipynb\" target=\"_parent\"><img src=\"https://colab.research.google.com/assets/colab-badge.svg\" alt=\"Open In Colab\"/></a>"
      ]
    },
    {
      "cell_type": "markdown",
      "source": [
        "# Seção3: Estrutura de Programação: if, while, For"
      ],
      "metadata": {
        "id": "tHpkPBwvUQXp"
      }
    },
    {
      "cell_type": "markdown",
      "source": [
        "# Fundamentos da Estrutura If"
      ],
      "metadata": {
        "id": "f94rQzXPUuTe"
      }
    },
    {
      "cell_type": "code",
      "source": [
        "print('isto esta fora dos ifs')\n",
        "if(True):\n",
        "  print('Este código vai ser executado')\n",
        "\n",
        "print('isto esta fora dos ifs')\n",
        "\n",
        "if(False):\n",
        "  print('Este código não vai ser executado')\n",
        "\n",
        "print('isto esta fora dos ifs')"
      ],
      "metadata": {
        "colab": {
          "base_uri": "https://localhost:8080/"
        },
        "id": "9GWMlwxeKIR1",
        "outputId": "c4c70156-2cb3-4992-f330-a3c4069f3921"
      },
      "execution_count": null,
      "outputs": [
        {
          "output_type": "stream",
          "name": "stdout",
          "text": [
            "isto esta fora dos ifs\n",
            "Este código vai ser executado\n",
            "isto esta fora dos ifs\n",
            "isto esta fora dos ifs\n"
          ]
        }
      ]
    },
    {
      "cell_type": "code",
      "source": [
        "if(True):\n",
        "  pass"
      ],
      "metadata": {
        "id": "3lgSvlajsoZT"
      },
      "execution_count": null,
      "outputs": []
    },
    {
      "cell_type": "code",
      "source": [
        "valor1 = 10\n",
        "valor2 = 10\n",
        "sao_iguais = (valor1 == valor2)\n",
        "if sao_iguais:\n",
        "  print('São iguais')\n"
      ],
      "metadata": {
        "colab": {
          "base_uri": "https://localhost:8080/"
        },
        "id": "VxoRr4UjsrhQ",
        "outputId": "ed5598aa-fc00-4f6a-acba-ea50bd82725c"
      },
      "execution_count": null,
      "outputs": [
        {
          "output_type": "stream",
          "name": "stdout",
          "text": [
            "São iguais\n"
          ]
        }
      ]
    },
    {
      "cell_type": "code",
      "source": [
        "valor1 = 10\n",
        "valor2 = 10\n",
        "if (valor1 == valor2):\n",
        "  print('São iguais')\n",
        "  print('São iguais parte II')"
      ],
      "metadata": {
        "colab": {
          "base_uri": "https://localhost:8080/"
        },
        "id": "dpzj_3lnuywv",
        "outputId": "c01bc6cf-69a5-44c3-92d0-c3d8ec163ad4"
      },
      "execution_count": null,
      "outputs": [
        {
          "output_type": "stream",
          "name": "stdout",
          "text": [
            "São iguais\n",
            "São iguais parte II\n"
          ]
        }
      ]
    },
    {
      "cell_type": "code",
      "source": [
        "valor1 = 10\n",
        "valor2 = 10\n",
        "if (valor1 == valor2):  print('São iguais')\n",
        "  "
      ],
      "metadata": {
        "colab": {
          "base_uri": "https://localhost:8080/"
        },
        "id": "OwNRZQ_lu_np",
        "outputId": "97d48874-fe98-49e6-a34e-778802f13932"
      },
      "execution_count": null,
      "outputs": [
        {
          "output_type": "stream",
          "name": "stdout",
          "text": [
            "São iguais\n"
          ]
        }
      ]
    },
    {
      "cell_type": "code",
      "source": [
        "if( 10 != 20):\n",
        "  print('são diferentes! 1')\n",
        "\n",
        "if( 10 != 10):\n",
        "  print('são diferentes! 2')\n",
        "\n",
        "if('olá' != 'alo'):\n",
        "  print('São diferentes 3')"
      ],
      "metadata": {
        "colab": {
          "base_uri": "https://localhost:8080/"
        },
        "id": "__gl09V-vD7g",
        "outputId": "ae502197-c50f-4977-c241-1f98801404cb"
      },
      "execution_count": null,
      "outputs": [
        {
          "output_type": "stream",
          "name": "stdout",
          "text": [
            "são diferentes! 1\n",
            "São diferentes 3\n"
          ]
        }
      ]
    },
    {
      "cell_type": "code",
      "source": [
        "numero = 11\n",
        "if( numero > 10):\n",
        "  print('é maior que 10')"
      ],
      "metadata": {
        "colab": {
          "base_uri": "https://localhost:8080/"
        },
        "id": "AoDp9Zb3vcbD",
        "outputId": "9747f9e8-c223-4513-f4ca-8e0a271d3137"
      },
      "execution_count": null,
      "outputs": [
        {
          "output_type": "stream",
          "name": "stdout",
          "text": [
            "é maior que 10\n"
          ]
        }
      ]
    },
    {
      "cell_type": "code",
      "source": [
        "nome = input('Digite seu nome: ')\n",
        "if 'a' in nome:\n",
        "  print('Possu a letra \\'a\\' ')"
      ],
      "metadata": {
        "colab": {
          "base_uri": "https://localhost:8080/"
        },
        "id": "ilVSiYNuvhaW",
        "outputId": "091692c7-b7e2-458e-bf1a-5d3d94f607a6"
      },
      "execution_count": null,
      "outputs": [
        {
          "name": "stdout",
          "output_type": "stream",
          "text": [
            "Digite seu nome: irene\n"
          ]
        }
      ]
    },
    {
      "cell_type": "code",
      "source": [
        "nome = input('Digite seu nome: ')\n",
        "possui_vogal = ('a' in nome) or ('e' in nome) or ('i' in nome) or ('o' in nome) or ('u' in nome)\n",
        "if possui_vogal:\n",
        "  print('Possui vogal')"
      ],
      "metadata": {
        "colab": {
          "base_uri": "https://localhost:8080/"
        },
        "id": "K2oOcJ_0v9AF",
        "outputId": "10be0fd0-9b57-46e0-9758-9a33dbcd6473"
      },
      "execution_count": null,
      "outputs": [
        {
          "name": "stdout",
          "output_type": "stream",
          "text": [
            "Digite seu nome: ffffff\n"
          ]
        }
      ]
    },
    {
      "cell_type": "markdown",
      "source": [
        "# Utilizando Else"
      ],
      "metadata": {
        "id": "RkIVswjQwsgT"
      }
    },
    {
      "cell_type": "code",
      "source": [
        "numero = 10\n",
        "if (numero >= 10):\n",
        "  print('È maior ou igual a 10')\n",
        "  print('-------------')\n",
        "else:\n",
        "  print('É menor que 10')\n",
        "  print('********')\n",
        "print('Fim')"
      ],
      "metadata": {
        "colab": {
          "base_uri": "https://localhost:8080/"
        },
        "id": "rDXNChUtwxV3",
        "outputId": "66940e39-bfd0-4a1d-814a-6f7f5553e362"
      },
      "execution_count": null,
      "outputs": [
        {
          "output_type": "stream",
          "name": "stdout",
          "text": [
            "È maior ou igual a 10\n",
            "-------------\n",
            "Fim\n"
          ]
        }
      ]
    },
    {
      "cell_type": "code",
      "source": [
        "numero = 10\n",
        "if numero % 2 == 0:\n",
        "  print('É Par')\n",
        "else:\n",
        "  print('É Impar')"
      ],
      "metadata": {
        "colab": {
          "base_uri": "https://localhost:8080/"
        },
        "id": "xDFor4YDxptQ",
        "outputId": "d7cad6bf-a28d-4509-b708-f45d1b4434e4"
      },
      "execution_count": null,
      "outputs": [
        {
          "output_type": "stream",
          "name": "stdout",
          "text": [
            "É Par\n"
          ]
        }
      ]
    },
    {
      "cell_type": "code",
      "source": [
        "numero = input('DIgite um numero inteiro: ')\n",
        "if int(numero) % 2 == 0:\n",
        "  print('È par')\n",
        "else:\n",
        "  print('É impar')"
      ],
      "metadata": {
        "colab": {
          "base_uri": "https://localhost:8080/"
        },
        "id": "cHXTnSx4y36Y",
        "outputId": "08169481-cbae-435e-9dc0-cd7faffbf4ec"
      },
      "execution_count": null,
      "outputs": [
        {
          "output_type": "stream",
          "name": "stdout",
          "text": [
            "DIgite um numero inteiro: 11\n",
            "É impar\n"
          ]
        }
      ]
    },
    {
      "cell_type": "code",
      "source": [
        "valor = 11\n",
        "if valor >= 0 and valor < 10:\n",
        "  print(valor,' é um valor aceito')\n",
        "else:\n",
        "  print(valor, ' não é um valor aceito')"
      ],
      "metadata": {
        "colab": {
          "base_uri": "https://localhost:8080/"
        },
        "id": "eyBAomSV1oL6",
        "outputId": "7b6a8757-b8f1-45c3-a0a6-77ddd9619a1e"
      },
      "execution_count": null,
      "outputs": [
        {
          "output_type": "stream",
          "name": "stdout",
          "text": [
            "11  não é um valor aceito\n"
          ]
        }
      ]
    },
    {
      "cell_type": "code",
      "source": [
        "texto = 'ab'\n",
        "if len(texto) == 1:\n",
        "  print('Tem 1 caractere')\n",
        "else:\n",
        "  print('Não tem 1 caractere')"
      ],
      "metadata": {
        "colab": {
          "base_uri": "https://localhost:8080/"
        },
        "id": "HJt3dpzi1-LZ",
        "outputId": "89ec78f5-552b-48b5-98f7-23beafe43b73"
      },
      "execution_count": null,
      "outputs": [
        {
          "output_type": "stream",
          "name": "stdout",
          "text": [
            "Não tem 1 caractere\n"
          ]
        }
      ]
    },
    {
      "cell_type": "markdown",
      "source": [],
      "metadata": {
        "id": "q_GZXHX-PNbV"
      }
    },
    {
      "cell_type": "markdown",
      "source": [
        "#Aninhando ifs"
      ],
      "metadata": {
        "id": "W5B1WSJvPOqS"
      }
    },
    {
      "cell_type": "code",
      "source": [
        "numero = 1\n",
        "if numero == 1 or numero == 0:\n",
        "  print('É 1 ou 0')"
      ],
      "metadata": {
        "colab": {
          "base_uri": "https://localhost:8080/"
        },
        "id": "bI3TrTX9PY7r",
        "outputId": "b7c12884-d5ba-4fc4-86d6-fc34b8153398"
      },
      "execution_count": null,
      "outputs": [
        {
          "output_type": "stream",
          "name": "stdout",
          "text": [
            "É 1 ou 0\n"
          ]
        }
      ]
    },
    {
      "cell_type": "code",
      "source": [
        "numero = 11\n",
        "condicao = numero > 10 or numero < -10\n",
        "if condicao:\n",
        "  print('Absolutamente maior que 10')"
      ],
      "metadata": {
        "colab": {
          "base_uri": "https://localhost:8080/"
        },
        "id": "ilIRaRBmPkpt",
        "outputId": "65b1a35c-5cd6-4758-b480-7955364703a3"
      },
      "execution_count": null,
      "outputs": [
        {
          "output_type": "stream",
          "name": "stdout",
          "text": [
            "Absolutamente maior que 10\n"
          ]
        }
      ]
    },
    {
      "cell_type": "code",
      "source": [
        "numero = 11\n",
        "if numero > 0:\n",
        "  print('Número é maior que zero')\n",
        "  if numero > 10:\n",
        "    print('Número é maior que dez')"
      ],
      "metadata": {
        "colab": {
          "base_uri": "https://localhost:8080/"
        },
        "id": "XLslz5HXPv3O",
        "outputId": "e82867b7-08d6-458b-ec6e-75a23de9aa65"
      },
      "execution_count": null,
      "outputs": [
        {
          "output_type": "stream",
          "name": "stdout",
          "text": [
            "Número é maior que zero\n",
            "Número é maior que dez\n"
          ]
        }
      ]
    },
    {
      "cell_type": "code",
      "source": [
        "numero = 50\n",
        "if numero < 10:\n",
        "  print('Menos que 10')\n",
        "elif numero < 100:\n",
        "    print('Menos que 100')\n",
        "elif numero <= 1000:\n",
        "      print ('Menos que 1000')\n",
        "else:\n",
        "  print('Nenhuma anterior')"
      ],
      "metadata": {
        "colab": {
          "base_uri": "https://localhost:8080/"
        },
        "id": "dA0Idoy9P-1D",
        "outputId": "0cb908c7-b384-468c-b8e5-2e3a08ad2182"
      },
      "execution_count": null,
      "outputs": [
        {
          "output_type": "stream",
          "name": "stdout",
          "text": [
            "Menos que 100\n"
          ]
        }
      ]
    },
    {
      "cell_type": "code",
      "source": [
        "texto = 'b'\n",
        "if texto == 'a':\n",
        "  print('É vogal a')\n",
        "elif texto == 'e':\n",
        "  print('É vogal e')\n",
        "elif texto == 'i':\n",
        "  print('É vogal i')\n",
        "elif texto == 'o':\n",
        "  print('É vogal o')\n",
        "elif texto == 'u':\n",
        "  print('É vogal u')\n",
        "else:\n",
        "  print('É Consoante')"
      ],
      "metadata": {
        "colab": {
          "base_uri": "https://localhost:8080/"
        },
        "id": "qjEuN3WYQml6",
        "outputId": "aa00c28c-08ea-4aeb-cce5-7040aa34fae8"
      },
      "execution_count": null,
      "outputs": [
        {
          "output_type": "stream",
          "name": "stdout",
          "text": [
            "É Consoante\n"
          ]
        }
      ]
    },
    {
      "cell_type": "code",
      "source": [
        "numero = 10\n",
        "resultado = 'PAR' if numero % 2 == 0 else 'IMPAR'\n",
        "print(resultado)"
      ],
      "metadata": {
        "colab": {
          "base_uri": "https://localhost:8080/"
        },
        "id": "SxtH7mlETCPF",
        "outputId": "46c5159c-2b8b-403c-d739-1644d8d295e2"
      },
      "execution_count": null,
      "outputs": [
        {
          "output_type": "stream",
          "name": "stdout",
          "text": [
            "PAR\n"
          ]
        }
      ]
    },
    {
      "cell_type": "code",
      "source": [
        "numero = 3\n",
        "resultado = 'Um' if numero == 1 else 'Dois' if numero == 2 else 'Três'\n",
        "print(resultado)"
      ],
      "metadata": {
        "colab": {
          "base_uri": "https://localhost:8080/"
        },
        "id": "msJ-QBnzT6pA",
        "outputId": "4715b97d-1c27-4d71-bb07-4ea20c3eac1e"
      },
      "execution_count": null,
      "outputs": [
        {
          "output_type": "stream",
          "name": "stdout",
          "text": [
            "Três\n"
          ]
        }
      ]
    },
    {
      "cell_type": "markdown",
      "source": [
        "#Atividades"
      ],
      "metadata": {
        "id": "fC8Su7nJUKcL"
      }
    },
    {
      "cell_type": "code",
      "source": [
        "# Crie um programa que receba o seu saldo bancário e o quanto você deve.\n",
        "# Em seguida o programa deve dizer se você tem saldo positivo ou negativo\n",
        "saldo_entrada = input('Digite seu saldo: ')\n",
        "valor_divida = input('Digite o quanto você deve: ')\n",
        "saldo = float(saldo_entrada)\n",
        "devido = float(valor_divida)\n",
        "valor_total = saldo - devido\n",
        "\n",
        "if valor_total >= 0:\n",
        "  print(\"Seu saldo é positivo, você tem R$ %.2f\" % (valor_total))\n",
        "else:\n",
        "  print(\"Seu saldo é negativo, você tem R$ %.2f\" % (valor_total))"
      ],
      "metadata": {
        "id": "7IEPiJofUNsk",
        "colab": {
          "base_uri": "https://localhost:8080/"
        },
        "outputId": "a535e33f-367d-419b-a180-db93c0f7d9e7"
      },
      "execution_count": null,
      "outputs": [
        {
          "output_type": "stream",
          "name": "stdout",
          "text": [
            "Digite seu saldo: 1000\n",
            "Digite o quanto você deve: 2000\n",
            "Seu saldo é negativo, você tem R$ -1000.00\n"
          ]
        }
      ]
    },
    {
      "cell_type": "code",
      "source": [
        "# Crie um programa que possui uma variável que guarde seu cpf e que guarde uma senha de sua escolha\n",
        "# Em seguida receba por input uma senha do usuário. Caso a senha recebida seja a correta mostre o CPF\n",
        "# caso não diga que a senha esta incorreta \n",
        "cpf = '223.236.356-20'\n",
        "senha = '1234'\n",
        "senha_usuario = input('Digite sua senha: ')\n",
        "#print('seu cpf %d'% cpf)\n",
        "if senha_usuario == senha:\n",
        "  print('Senha correta, seu CPF é: %s' % (cpf))\n",
        "else:\n",
        "  print('Senha Incorreta!')"
      ],
      "metadata": {
        "id": "ktQ-9-BOUX-d",
        "colab": {
          "base_uri": "https://localhost:8080/"
        },
        "outputId": "847e3d2e-d95e-4e71-f291-aca255e764eb"
      },
      "execution_count": null,
      "outputs": [
        {
          "output_type": "stream",
          "name": "stdout",
          "text": [
            "Digite sua senha: 1234\n",
            "Senha correta, seu CPF é: 223.236.356-20\n"
          ]
        }
      ]
    },
    {
      "cell_type": "code",
      "source": [
        "# Crie um programa que fale sobre sua idade. As regras são a seguinte, você deve receber por\n",
        "# input sua idade, se você tiver até três anos printe que é um bebe, até 13 anos uma criança\n",
        "# ate 18 anos adolescente, até 65 adulto. Em nenhum deste casos é um idoso\n",
        "idade = int(input('Digite sua idade: '))\n",
        "if idade <= 3:\n",
        "  print('Você é um bebe!')\n",
        "elif idade <= 13:\n",
        "  print('Você é uma criança!')\n",
        "elif idade <= 18:\n",
        "  print('Você é um adolescente!')\n",
        "elif idade <= 65:\n",
        "  print('Você é um adulto!')\n",
        "else:\n",
        "  print('Você é um idoso!')"
      ],
      "metadata": {
        "id": "eRcwDhjzUw2z",
        "colab": {
          "base_uri": "https://localhost:8080/"
        },
        "outputId": "71034dc8-e79b-4962-e0cd-5a61c389fbf3"
      },
      "execution_count": null,
      "outputs": [
        {
          "output_type": "stream",
          "name": "stdout",
          "text": [
            "Digite sua idade: 66\n",
            "Você é um idoso!\n"
          ]
        }
      ]
    },
    {
      "cell_type": "code",
      "source": [
        "# Crie um programa que receba dois números, e também receba do usuário a operação que deve ser feita\n",
        "# as possibilidades são soma(+), subtração(-), divisão(/) e multiplicação(*). Realize a operação escolhida\n",
        "# sobre os dois numeros.\n",
        "\n",
        "numero1 = float(input('Digite o primeiro numero: '))\n",
        "numero2 = float(input('Digite o segundo numero: '))\n",
        "operacao = input('Digite a operação: ')\n",
        "\n",
        "if operacao == \"+\":\n",
        "  soma = numero1 + numero2\n",
        "  print('A soma é: ',soma)\n",
        "elif operacao == \"-\":\n",
        "  subtracao = numero1 - numero2\n",
        "  print('A subtração: é: ',subtracao)\n",
        "elif operacao == \"/\":\n",
        "  divisao = numero1 / numero2\n",
        "  print('A divisão é: ',divisao)\n",
        "elif operacao == \"*\":\n",
        "  multiplicacao = numero1 * numero2\n",
        "  print('A multiplicação é: ',multiplicacao)\n",
        "else:\n",
        "  print('Operador Invalida!')\n",
        "\n"
      ],
      "metadata": {
        "id": "vGbEFwvFVMkq",
        "colab": {
          "base_uri": "https://localhost:8080/"
        },
        "outputId": "1318af3b-a18b-47c3-93b4-7a8d15a71271"
      },
      "execution_count": null,
      "outputs": [
        {
          "output_type": "stream",
          "name": "stdout",
          "text": [
            "Digite o primeiro numero: 10\n",
            "Digite o segundo numero: 10\n",
            "Digite a operação: -\n",
            "A subtração: é:  0.0\n"
          ]
        }
      ]
    },
    {
      "cell_type": "markdown",
      "source": [
        "#Laços / Loops"
      ],
      "metadata": {
        "id": "fROFox47sTG5"
      }
    },
    {
      "cell_type": "code",
      "source": [
        "a = 1\n",
        "while a <= 10:\n",
        "  print(a)\n",
        "  a += 1"
      ],
      "metadata": {
        "colab": {
          "base_uri": "https://localhost:8080/"
        },
        "id": "E9GGGqjTsbKv",
        "outputId": "cfaf1413-20a9-41eb-e26d-696ba4cd35fb"
      },
      "execution_count": null,
      "outputs": [
        {
          "output_type": "stream",
          "name": "stdout",
          "text": [
            "1\n",
            "2\n",
            "3\n",
            "4\n",
            "5\n",
            "6\n",
            "7\n",
            "8\n",
            "9\n",
            "10\n"
          ]
        }
      ]
    },
    {
      "cell_type": "code",
      "source": [
        "a = 10\n",
        "while a > 0:\n",
        "  print(a)\n",
        "  a -= 1"
      ],
      "metadata": {
        "colab": {
          "base_uri": "https://localhost:8080/"
        },
        "id": "I_uvsZHIxZrc",
        "outputId": "3457b95a-75c2-4658-e454-9ecd01ffb0a1"
      },
      "execution_count": null,
      "outputs": [
        {
          "output_type": "stream",
          "name": "stdout",
          "text": [
            "10\n",
            "9\n",
            "8\n",
            "7\n",
            "6\n",
            "5\n",
            "4\n",
            "3\n",
            "2\n",
            "1\n"
          ]
        }
      ]
    },
    {
      "cell_type": "code",
      "source": [
        "indice = 10\n",
        "while indice >= 2:\n",
        "  resto = indice % 2\n",
        "  if resto == 0:\n",
        "    print('O número %d é par' % (indice))\n",
        "  else:\n",
        "    print('O número %d é impar' % (indice))\n",
        "  indice -= 1"
      ],
      "metadata": {
        "id": "p6iQ-WBJBjQp"
      },
      "execution_count": null,
      "outputs": []
    },
    {
      "cell_type": "code",
      "source": [
        "soma = 0\n",
        "numeros_lidos = 0\n",
        "\n",
        "while (numeros_lidos < 5):\n",
        "  num_str = float(input('Digite um valor: '))  \n",
        "  soma += num_str\n",
        "  numeros_lidos += 1\n",
        "print('Soma é: %.2f'%(soma))"
      ],
      "metadata": {
        "colab": {
          "base_uri": "https://localhost:8080/"
        },
        "id": "zUwgjfekCcFi",
        "outputId": "73df0bed-d447-4bb5-cdca-e303ea38930a"
      },
      "execution_count": null,
      "outputs": [
        {
          "output_type": "stream",
          "name": "stdout",
          "text": [
            "Digite um valor: 100\n",
            "Digite um valor: 1.5\n",
            "Digite um valor: 20.5\n",
            "Digite um valor: 66.5\n",
            "Digite um valor: 1.1\n",
            "Soma é: 189.60\n"
          ]
        }
      ]
    },
    {
      "cell_type": "markdown",
      "source": [
        "# Break e Continue"
      ],
      "metadata": {
        "id": "vwEVbwhIxgQU"
      }
    },
    {
      "cell_type": "code",
      "source": [
        "num_atual = 0\n",
        "while (True):\n",
        "  if num_atual == 5:\n",
        "    break\n",
        "  print(num_atual)\n",
        "  num_atual += 1\n",
        "print('Encerrou!')"
      ],
      "metadata": {
        "colab": {
          "base_uri": "https://localhost:8080/"
        },
        "id": "PCGjCKAnyFhu",
        "outputId": "66a01eb8-e38b-4cf1-b143-31c2158464a3"
      },
      "execution_count": 7,
      "outputs": [
        {
          "output_type": "stream",
          "name": "stdout",
          "text": [
            "0\n",
            "1\n",
            "2\n",
            "3\n",
            "4\n",
            "Encerrou!\n"
          ]
        }
      ]
    },
    {
      "cell_type": "code",
      "source": [
        "num_atual = 0\n",
        "while num_atual <= 10:\n",
        "  num_atual += 1\n",
        "  if(num_atual == 7):\n",
        "    continue\n",
        "  print(num_atual)\n",
        "print('Encerrou')"
      ],
      "metadata": {
        "colab": {
          "base_uri": "https://localhost:8080/"
        },
        "id": "uCgYPKiD0Ij-",
        "outputId": "2075f97a-e211-4af7-a073-1a25f7fc05f0"
      },
      "execution_count": 10,
      "outputs": [
        {
          "output_type": "stream",
          "name": "stdout",
          "text": [
            "1\n",
            "2\n",
            "3\n",
            "4\n",
            "5\n",
            "6\n",
            "8\n",
            "9\n",
            "10\n",
            "11\n",
            "Encerrou\n"
          ]
        }
      ]
    },
    {
      "cell_type": "markdown",
      "source": [
        "#Atividades"
      ],
      "metadata": {
        "id": "7VcOR4VU1C-T"
      }
    },
    {
      "cell_type": "code",
      "source": [
        "# 1 - Crie um programa que receba 5 números e retorne a média aritmética entre esses números\n",
        "soma_atual = 0\n",
        "numeros_lidos = 0\n",
        "\n",
        "while(numeros_lidos < 5):\n",
        "  numero_str = float(input('Digite um valor: ' ))\n",
        "  soma_atual += numero_str\n",
        "  numeros_lidos += 1\n",
        "\n",
        "media = soma_atual / 5\n",
        "print('A média é: %.2f' % (media))"
      ],
      "metadata": {
        "colab": {
          "base_uri": "https://localhost:8080/"
        },
        "id": "rluzEuvV1HkV",
        "outputId": "6b80836a-903a-4ee4-8b9d-19a1673a1d57"
      },
      "execution_count": 23,
      "outputs": [
        {
          "output_type": "stream",
          "name": "stdout",
          "text": [
            "Digite um valor: 20\n",
            "Digite um valor: 10\n",
            "Digite um valor: 50\n",
            "Digite um valor: 53.5\n",
            "Digite um valor: 10\n",
            "A média é: 28.70\n"
          ]
        }
      ]
    },
    {
      "cell_type": "code",
      "source": [
        "# 2 - Crie um programa que receba 5 números, realiza a soma destes números, mas caso um destes números seja \n",
        "# negativo não considere ele na soma.\n",
        "\n",
        "numeros_lidos = 0\n",
        "soma_numeros = 0\n",
        "\n",
        "while numeros_lidos < 5:\n",
        "  numeros_digitados = float(input('Digite um valor: '))  \n",
        "   \n",
        "  if numeros_digitados >= 0:    \n",
        "    soma_numeros += numeros_digitados\n",
        "  numeros_lidos += 1 \n",
        "\n",
        "print('A soma é %.2f: '% (soma_numeros))"
      ],
      "metadata": {
        "colab": {
          "base_uri": "https://localhost:8080/"
        },
        "id": "MM0F0Gh01V7g",
        "outputId": "3fcefc6e-3bc3-4432-d98f-da4faa264752"
      },
      "execution_count": 58,
      "outputs": [
        {
          "output_type": "stream",
          "name": "stdout",
          "text": [
            "Digite um valor: 6\n",
            "Digite um valor: 10\n",
            "Digite um valor: 100\n",
            "Digite um valor: 60\n",
            "Digite um valor: -50\n",
            "A soma é 176.00: \n"
          ]
        }
      ]
    },
    {
      "cell_type": "code",
      "source": [
        "# 3 - Cria um programa que receba um número arbitrário (definido pelo usuário) de números que serão lidos\n",
        "# e retorne a soma de todos eles\n",
        "qtd_num_lidos = int(input('Digite a quantidade de números: '))\n",
        "num_lidos = 0\n",
        "soma_total = 0\n",
        "\n",
        "while num_lidos <  qtd_num_lidos:\n",
        "  n_digitados = float(input('Digite um valor: '))\n",
        "  soma_total += n_digitados\n",
        "  num_lidos +=1\n",
        "print('A soma é: %.2f' % (soma_total))\n",
        "  "
      ],
      "metadata": {
        "colab": {
          "base_uri": "https://localhost:8080/"
        },
        "id": "q2GmiA7X1kqo",
        "outputId": "7529b317-a78a-4194-ad2c-25ef96b8eb08"
      },
      "execution_count": 63,
      "outputs": [
        {
          "output_type": "stream",
          "name": "stdout",
          "text": [
            "Digite a quantidade de números: 2\n",
            "Digite um valor: 5\n",
            "Digite um valor: 1\n",
            "A soma é: 6.00\n"
          ]
        }
      ]
    },
    {
      "cell_type": "code",
      "source": [
        "# 4 - Percorra os números de 2 até 10 e diga se o número é par ou impar.\n",
        "\n",
        "num_atual = 2\n",
        "\n",
        "while num_atual <= 10:\n",
        "  resto = num_atual % 2\n",
        "  if ( resto == 0):\n",
        "    print('O numero %d é Par' % (num_atual))\n",
        "  else:\n",
        "    print('O numero %d é Impar' % (num_atual))\n",
        "  num_atual +=1\n",
        "  "
      ],
      "metadata": {
        "colab": {
          "base_uri": "https://localhost:8080/"
        },
        "id": "g3HU1beg1xeC",
        "outputId": "d3e1bf55-49ff-4542-92e5-56d27d03ff94"
      },
      "execution_count": 69,
      "outputs": [
        {
          "output_type": "stream",
          "name": "stdout",
          "text": [
            "O numero 2 é Par\n",
            "O numero 3 é Impar\n",
            "O numero 4 é Par\n",
            "O numero 5 é Impar\n",
            "O numero 6 é Par\n",
            "O numero 7 é Impar\n",
            "O numero 8 é Par\n",
            "O numero 9 é Impar\n",
            "O numero 10 é Par\n"
          ]
        }
      ]
    },
    {
      "cell_type": "code",
      "source": [
        "# 5 - Crie um program que receba como input uma string.\n",
        "# Em seguida percorra a string e diga quantos espaços em branco essa string tem.\n",
        "\n",
        "texto = input('Digite um texto: ')\n",
        "indice = 0\n",
        "esp_vazio = 0\n",
        "\n",
        "while indice < len(texto):\n",
        "  if texto[indice] == ' ':\n",
        "    esp_vazio += 1\n",
        "  indice += 1\n",
        "\n",
        "print('Número de espaços no texto é de %d ' % (esp_vazio))\n",
        "  \n"
      ],
      "metadata": {
        "colab": {
          "base_uri": "https://localhost:8080/"
        },
        "id": "nnyUcG6613pz",
        "outputId": "92799385-c64c-4d5a-d7c3-06279459ef26"
      },
      "execution_count": 76,
      "outputs": [
        {
          "output_type": "stream",
          "name": "stdout",
          "text": [
            "Digite um texto: ola mundo\n",
            "Número de espaços no texto é de 1 \n"
          ]
        }
      ]
    },
    {
      "cell_type": "markdown",
      "source": [
        "#For"
      ],
      "metadata": {
        "id": "KbEwA2c7VH1K"
      }
    },
    {
      "cell_type": "code",
      "source": [
        "i = 1\n",
        "for x in range(10):\n",
        "  print(i, '-', x)"
      ],
      "metadata": {
        "colab": {
          "base_uri": "https://localhost:8080/"
        },
        "id": "uchVskzDVr5X",
        "outputId": "158b9f56-bbe9-428d-9dc5-827e1442f04c"
      },
      "execution_count": 79,
      "outputs": [
        {
          "output_type": "stream",
          "name": "stdout",
          "text": [
            "1 - 0\n",
            "1 - 1\n",
            "1 - 2\n",
            "1 - 3\n",
            "1 - 4\n",
            "1 - 5\n",
            "1 - 6\n",
            "1 - 7\n",
            "1 - 8\n",
            "1 - 9\n"
          ]
        }
      ]
    }
  ]
}